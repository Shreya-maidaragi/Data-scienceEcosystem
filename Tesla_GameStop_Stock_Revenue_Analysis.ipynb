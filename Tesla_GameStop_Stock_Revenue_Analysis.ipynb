{
 "cells": [
  {
   "cell_type": "markdown",
   "metadata": {},
   "source": [
    "# 📘 Final Project: Tesla and GameStop Stock & Revenue Analysis\n",
    "This project extracts Tesla and GameStop stock prices and revenue data, then visualizes them together using dashboards."
   ]
  },
  {
   "cell_type": "code",
   "execution_count": null,
   "metadata": {},
   "outputs": [],
   "source": [
    "# Step 1: Import Required Libraries\n",
    "import yfinance as yf\n",
    "import requests\n",
    "from bs4 import BeautifulSoup\n",
    "import pandas as pd\n",
    "import plotly.graph_objects as go"
   ]
  },
  {
   "cell_type": "code",
   "execution_count": null,
   "metadata": {},
   "outputs": [],
   "source": [
    "# Step 2: Extract Tesla Stock Data using yfinance\n",
    "tesla = yf.Ticker('TSLA')\n",
    "tesla_data = tesla.history(period='max')\n",
    "tesla_data.reset_index(inplace=True)\n",
    "tesla_data.head()"
   ]
  },
  {
   "cell_type": "code",
   "execution_count": null,
   "metadata": {},
   "outputs": [],
   "source": [
    "# Step 3: Extract Tesla Revenue Data using Web Scraping\n",
    "url = 'https://www.macrotrends.net/stocks/charts/TSLA/tesla/revenue'\n",
    "html_data = requests.get(url).text\n",
    "soup = BeautifulSoup(html_data, 'html.parser')\n",
    "tables = soup.find_all('table')\n",
    "tesla_revenue = pd.read_html(str(tables[0]))[0]\n",
    "tesla_revenue.columns = ['Date', 'Revenue']\n",
    "tesla_revenue['Revenue'] = tesla_revenue['Revenue'].str.replace(',', '').str.replace('$', '')\n",
    "tesla_revenue.dropna(inplace=True)\n",
    "tesla_revenue.head()"
   ]
  },
  {
   "cell_type": "code",
   "execution_count": null,
   "metadata": {},
   "outputs": [],
   "source": [
    "# Step 4: Extract GameStop Stock Data using yfinance\n",
    "gme = yf.Ticker('GME')\n",
    "gme_data = gme.history(period='max')\n",
    "gme_data.reset_index(inplace=True)\n",
    "gme_data.head()"
   ]
  },
  {
   "cell_type": "code",
   "execution_count": null,
   "metadata": {},
   "outputs": [],
   "source": [
    "# Step 5: Extract GameStop Revenue Data using Web Scraping\n",
    "url = 'https://www.macrotrends.net/stocks/charts/GME/gamestop/revenue'\n",
    "html_data = requests.get(url).text\n",
    "soup = BeautifulSoup(html_data, 'html.parser')\n",
    "tables = soup.find_all('table')\n",
    "gme_revenue = pd.read_html(str(tables[0]))[0]\n",
    "gme_revenue.columns = ['Date', 'Revenue']\n",
    "gme_revenue['Revenue'] = gme_revenue['Revenue'].str.replace(',', '').str.replace('$', '')\n",
    "gme_revenue.dropna(inplace=True)\n",
    "gme_revenue.head()"
   ]
  },
  {
   "cell_type": "code",
   "execution_count": null,
   "metadata": {},
   "outputs": [],
   "source": [
    "# Step 6: Tesla Stock vs Revenue Dashboard\n",
    "fig = go.Figure()\n",
    "fig.add_trace(go.Scatter(x=tesla_data['Date'], y=tesla_data['Close'], name='Tesla Stock Price'))\n",
    "fig.add_trace(go.Scatter(x=tesla_revenue['Date'], y=tesla_revenue['Revenue'], name='Tesla Revenue', yaxis='y2'))\n",
    "fig.update_layout(title='Tesla Stock Price vs Revenue', xaxis_title='Date', yaxis=dict(title='Stock Price (USD)'), yaxis2=dict(title='Revenue (USD)', overlaying='y', side='right'))\n",
    "fig.show()"
   ]
  },
  {
   "cell_type": "code",
   "execution_count": null,
   "metadata": {},
   "outputs": [],
   "source": [
    "# Step 7: GameStop Stock vs Revenue Dashboard\n",
    "fig = go.Figure()\n",
    "fig.add_trace(go.Scatter(x=gme_data['Date'], y=gme_data['Close'], name='GameStop Stock Price'))\n",
    "fig.add_trace(go.Scatter(x=gme_revenue['Date'], y=gme_revenue['Revenue'], name='GameStop Revenue', yaxis='y2'))\n",
    "fig.update_layout(title='GameStop Stock Price vs Revenue', xaxis_title='Date', yaxis=dict(title='Stock Price (USD)'), yaxis2=dict(title='Revenue (USD)', overlaying='y', side='right'))\n",
    "fig.show()"
   ]
  }
 ],
 "metadata": {
  "kernelspec": {
   "display_name": "Python 3",
   "language": "python",
   "name": "python3"
  },
  "language_info": {
   "name": "python",
   "version": "3.10"
  }
 },
 "nbformat": 4,
 "nbformat_minor": 2
}